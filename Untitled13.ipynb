{
 "cells": [
  {
   "cell_type": "code",
   "execution_count": 6,
   "id": "b2f64498",
   "metadata": {},
   "outputs": [],
   "source": [
    "class example():\n",
    "    x=6\n",
    "    y=8\n",
    "    "
   ]
  },
  {
   "cell_type": "code",
   "execution_count": 3,
   "id": "da056507",
   "metadata": {},
   "outputs": [],
   "source": [
    "obj=example()"
   ]
  },
  {
   "cell_type": "code",
   "execution_count": 4,
   "id": "94f7b474",
   "metadata": {},
   "outputs": [
    {
     "data": {
      "text/plain": [
       "6"
      ]
     },
     "execution_count": 4,
     "metadata": {},
     "output_type": "execute_result"
    }
   ],
   "source": [
    "obj.x"
   ]
  },
  {
   "cell_type": "code",
   "execution_count": 5,
   "id": "cdb130a4",
   "metadata": {},
   "outputs": [
    {
     "data": {
      "text/plain": [
       "8"
      ]
     },
     "execution_count": 5,
     "metadata": {},
     "output_type": "execute_result"
    }
   ],
   "source": [
    "obj.y"
   ]
  },
  {
   "cell_type": "code",
   "execution_count": 20,
   "id": "d5f97ff8",
   "metadata": {},
   "outputs": [
    {
     "name": "stdout",
     "output_type": "stream",
     "text": [
      "hllo\n"
     ]
    }
   ],
   "source": [
    "class animal():\n",
    "    t='tiger'\n",
    "    g='goat'\n",
    "    l='lion'\n",
    "    print(\"hllo\")"
   ]
  },
  {
   "cell_type": "code",
   "execution_count": 21,
   "id": "cffc2528",
   "metadata": {},
   "outputs": [],
   "source": [
    "ani=animal()"
   ]
  },
  {
   "cell_type": "code",
   "execution_count": 22,
   "id": "b53aeee7",
   "metadata": {},
   "outputs": [
    {
     "data": {
      "text/plain": [
       "'tiger'"
      ]
     },
     "execution_count": 22,
     "metadata": {},
     "output_type": "execute_result"
    }
   ],
   "source": [
    "ani.t"
   ]
  },
  {
   "cell_type": "code",
   "execution_count": 12,
   "id": "fc071351",
   "metadata": {},
   "outputs": [
    {
     "data": {
      "text/plain": [
       "'goat'"
      ]
     },
     "execution_count": 12,
     "metadata": {},
     "output_type": "execute_result"
    }
   ],
   "source": [
    "ani.g"
   ]
  },
  {
   "cell_type": "code",
   "execution_count": 19,
   "id": "bd628345",
   "metadata": {},
   "outputs": [
    {
     "data": {
      "text/plain": [
       "'lion'"
      ]
     },
     "execution_count": 19,
     "metadata": {},
     "output_type": "execute_result"
    }
   ],
   "source": [
    "ani.l"
   ]
  },
  {
   "cell_type": "code",
   "execution_count": 45,
   "id": "08635bd1",
   "metadata": {},
   "outputs": [],
   "source": [
    "class fruits():\n",
    "    def mango(self):\n",
    "        print('it is yellow in color')\n",
    "    def strawberry(self):\n",
    "            print('it is red in color')"
   ]
  },
  {
   "cell_type": "code",
   "execution_count": 46,
   "id": "80a6e7ad",
   "metadata": {},
   "outputs": [],
   "source": [
    "fru=fruits()"
   ]
  },
  {
   "cell_type": "code",
   "execution_count": 44,
   "id": "b4632968",
   "metadata": {},
   "outputs": [
    {
     "name": "stdout",
     "output_type": "stream",
     "text": [
      "it is yellow in color\n",
      "it is red in color\n"
     ]
    }
   ],
   "source": [
    "fru.mango()\n",
    "fru.straw()"
   ]
  },
  {
   "cell_type": "code",
   "execution_count": 47,
   "id": "402e15a7",
   "metadata": {},
   "outputs": [
    {
     "name": "stdout",
     "output_type": "stream",
     "text": [
      "it is red in color\n"
     ]
    }
   ],
   "source": [
    "fru.strawberry()"
   ]
  },
  {
   "cell_type": "code",
   "execution_count": 49,
   "id": "6ea87524",
   "metadata": {},
   "outputs": [],
   "source": [
    "class student():\n",
    "    def nazreen(self):\n",
    "        print('hai nazreen how are you')\n",
    "    def asif(self):\n",
    "        print('hllo asif ')\n",
    "    def shravan(self):\n",
    "        print('how do u do')"
   ]
  },
  {
   "cell_type": "code",
   "execution_count": 50,
   "id": "4af00361",
   "metadata": {},
   "outputs": [],
   "source": [
    "std=student()"
   ]
  },
  {
   "cell_type": "code",
   "execution_count": 51,
   "id": "ac87fb5f",
   "metadata": {},
   "outputs": [
    {
     "name": "stdout",
     "output_type": "stream",
     "text": [
      "hai nazreen how are you\n"
     ]
    }
   ],
   "source": [
    "std.nazreen()"
   ]
  },
  {
   "cell_type": "code",
   "execution_count": 52,
   "id": "59f07229",
   "metadata": {},
   "outputs": [
    {
     "name": "stdout",
     "output_type": "stream",
     "text": [
      "hllo asif \n"
     ]
    }
   ],
   "source": [
    "std.asif()"
   ]
  },
  {
   "cell_type": "code",
   "execution_count": 53,
   "id": "ed15579d",
   "metadata": {},
   "outputs": [
    {
     "name": "stdout",
     "output_type": "stream",
     "text": [
      "how do u do\n"
     ]
    }
   ],
   "source": [
    "std.shravan()"
   ]
  },
  {
   "cell_type": "code",
   "execution_count": 54,
   "id": "af3c389b",
   "metadata": {},
   "outputs": [
    {
     "name": "stdout",
     "output_type": "stream",
     "text": [
      "hai nazreen how are you\n",
      "how do u do\n",
      "hllo asif \n"
     ]
    }
   ],
   "source": [
    "std.nazreen()\n",
    "std.shravan()\n",
    "std.asif()"
   ]
  },
  {
   "cell_type": "code",
   "execution_count": 55,
   "id": "b9e0ef92",
   "metadata": {},
   "outputs": [],
   "source": [
    "class greeting():\n",
    "    def name(self):\n",
    "        print('hai nazreen how are you')\n",
    "    def whishing(self):\n",
    "        print('welcome to vaagdevi college ')\n",
    "    def leaving(self):\n",
    "        print('see you later')"
   ]
  },
  {
   "cell_type": "code",
   "execution_count": 56,
   "id": "e0c2179b",
   "metadata": {},
   "outputs": [],
   "source": [
    "greet=greeting()"
   ]
  },
  {
   "cell_type": "code",
   "execution_count": 59,
   "id": "47afd038",
   "metadata": {},
   "outputs": [
    {
     "name": "stdout",
     "output_type": "stream",
     "text": [
      "hai nazreen how are you\n",
      "welcome to vaagdevi college \n",
      "see you later\n"
     ]
    }
   ],
   "source": [
    "greet.name()\n",
    "greet.whishing()\n",
    "greet.leaving()"
   ]
  },
  {
   "cell_type": "code",
   "execution_count": 60,
   "id": "45c99f02",
   "metadata": {},
   "outputs": [],
   "source": [
    "class student():\n",
    "    name='nazreen'\n",
    "    branch='MCA'\n",
    "    rno=41\n",
    "    def show(self):\n",
    "        print('nazreen is topper')\n",
    "    def display(self):\n",
    "        print('good to see u')\n",
    "        "
   ]
  },
  {
   "cell_type": "code",
   "execution_count": 61,
   "id": "aa2c500a",
   "metadata": {},
   "outputs": [],
   "source": [
    "s1=student()"
   ]
  },
  {
   "cell_type": "code",
   "execution_count": 62,
   "id": "7048a538",
   "metadata": {},
   "outputs": [
    {
     "data": {
      "text/plain": [
       "'nazreen'"
      ]
     },
     "execution_count": 62,
     "metadata": {},
     "output_type": "execute_result"
    }
   ],
   "source": [
    "s1.name"
   ]
  },
  {
   "cell_type": "code",
   "execution_count": 63,
   "id": "1ea5ad37",
   "metadata": {},
   "outputs": [
    {
     "data": {
      "text/plain": [
       "'MCA'"
      ]
     },
     "execution_count": 63,
     "metadata": {},
     "output_type": "execute_result"
    }
   ],
   "source": [
    "s1.branch\n",
    "\n"
   ]
  },
  {
   "cell_type": "code",
   "execution_count": 64,
   "id": "0429a17e",
   "metadata": {},
   "outputs": [
    {
     "data": {
      "text/plain": [
       "41"
      ]
     },
     "execution_count": 64,
     "metadata": {},
     "output_type": "execute_result"
    }
   ],
   "source": [
    "s1.rno"
   ]
  },
  {
   "cell_type": "code",
   "execution_count": 67,
   "id": "911975f9",
   "metadata": {},
   "outputs": [
    {
     "name": "stdout",
     "output_type": "stream",
     "text": [
      "nazreen is topper\n",
      "good to see u\n"
     ]
    }
   ],
   "source": [
    "s1.show()\n",
    "s1.display()\n",
    "\n"
   ]
  },
  {
   "cell_type": "code",
   "execution_count": 68,
   "id": "9d860361",
   "metadata": {},
   "outputs": [
    {
     "name": "stdout",
     "output_type": "stream",
     "text": [
      "nazreen is topper\n"
     ]
    }
   ],
   "source": [
    "s1.show()"
   ]
  },
  {
   "cell_type": "code",
   "execution_count": 69,
   "id": "8dff36b7",
   "metadata": {},
   "outputs": [
    {
     "name": "stdout",
     "output_type": "stream",
     "text": [
      "good to see u\n"
     ]
    }
   ],
   "source": [
    "s1.display()"
   ]
  },
  {
   "cell_type": "code",
   "execution_count": 89,
   "id": "8a2505c2",
   "metadata": {},
   "outputs": [],
   "source": [
    "class name:\n",
    "    def creatname(self,name):\n",
    "        self.name=name\n",
    "    def display(self):\n",
    "        return self.name\n",
    "    def greet(self):\n",
    "        print(f\" hai how are you ,{self.name}\")"
   ]
  },
  {
   "cell_type": "code",
   "execution_count": 90,
   "id": "9faf637b",
   "metadata": {},
   "outputs": [],
   "source": [
    "obj=name()"
   ]
  },
  {
   "cell_type": "code",
   "execution_count": 91,
   "id": "0809970f",
   "metadata": {},
   "outputs": [],
   "source": [
    "obj.creatname('nazz')"
   ]
  },
  {
   "cell_type": "code",
   "execution_count": 92,
   "id": "53536d36",
   "metadata": {},
   "outputs": [
    {
     "data": {
      "text/plain": [
       "'nazz'"
      ]
     },
     "execution_count": 92,
     "metadata": {},
     "output_type": "execute_result"
    }
   ],
   "source": [
    "obj.display()"
   ]
  },
  {
   "cell_type": "code",
   "execution_count": 93,
   "id": "282a7e95",
   "metadata": {},
   "outputs": [
    {
     "name": "stdout",
     "output_type": "stream",
     "text": [
      " hai how are you ,nazz\n"
     ]
    }
   ],
   "source": [
    "obj.greet()"
   ]
  },
  {
   "cell_type": "code",
   "execution_count": null,
   "id": "2ae85cfe",
   "metadata": {},
   "outputs": [],
   "source": [
    "class name:\n",
    "    def creatname(self,name):\n",
    "        self.name=name\n",
    "    def display(self):\n",
    "        return self.name\n",
    "    def greet(self):\n",
    "        print(f\" hai how are you ,{self.name}\")"
   ]
  },
  {
   "cell_type": "code",
   "execution_count": 100,
   "id": "bb850e8a",
   "metadata": {},
   "outputs": [],
   "source": [
    "class Book:\n",
    "    def search(self,Book):\n",
    "        self.Book=Book\n",
    "    def display(self):\n",
    "        return self.Book\n",
    "    def detail(self):\n",
    "        print(f\" i want to serach a book of,{self.Book}\")"
   ]
  },
  {
   "cell_type": "code",
   "execution_count": 105,
   "id": "0e12adb7",
   "metadata": {},
   "outputs": [],
   "source": [
    "bb=Book()"
   ]
  },
  {
   "cell_type": "code",
   "execution_count": 106,
   "id": "db17fa04",
   "metadata": {},
   "outputs": [],
   "source": [
    "bb.search('abdulkalam sir')"
   ]
  },
  {
   "cell_type": "code",
   "execution_count": 107,
   "id": "668981cf",
   "metadata": {},
   "outputs": [
    {
     "data": {
      "text/plain": [
       "'abdulkalam sir'"
      ]
     },
     "execution_count": 107,
     "metadata": {},
     "output_type": "execute_result"
    }
   ],
   "source": [
    "bb.display()"
   ]
  },
  {
   "cell_type": "code",
   "execution_count": 108,
   "id": "fcd03da4",
   "metadata": {},
   "outputs": [
    {
     "name": "stdout",
     "output_type": "stream",
     "text": [
      " i want to serach a book of,abdulkalam sir\n"
     ]
    }
   ],
   "source": [
    "bb.detail()"
   ]
  },
  {
   "cell_type": "code",
   "execution_count": null,
   "id": "d793fa1b",
   "metadata": {},
   "outputs": [],
   "source": []
  },
  {
   "cell_type": "raw",
   "id": "4caf3326",
   "metadata": {},
   "source": []
  },
  {
   "cell_type": "code",
   "execution_count": null,
   "id": "e58be22e",
   "metadata": {},
   "outputs": [],
   "source": []
  },
  {
   "cell_type": "code",
   "execution_count": null,
   "id": "395ff893",
   "metadata": {},
   "outputs": [],
   "source": []
  }
 ],
 "metadata": {
  "kernelspec": {
   "display_name": "Python 3",
   "language": "python",
   "name": "python3"
  },
  "language_info": {
   "codemirror_mode": {
    "name": "ipython",
    "version": 3
   },
   "file_extension": ".py",
   "mimetype": "text/x-python",
   "name": "python",
   "nbconvert_exporter": "python",
   "pygments_lexer": "ipython3",
   "version": "3.8.8"
  }
 },
 "nbformat": 4,
 "nbformat_minor": 5
}
